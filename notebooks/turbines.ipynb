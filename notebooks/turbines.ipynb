{
 "cells": [
  {
   "cell_type": "markdown",
   "id": "71d1903d-a075-44ed-ba23-d64f12062af0",
   "metadata": {},
   "source": [
    "# Setup"
   ]
  },
  {
   "cell_type": "code",
   "execution_count": null,
   "id": "65b4ba51-ceaa-47c9-ac77-8d4e14bc4f94",
   "metadata": {},
   "outputs": [],
   "source": [
    "%%sh\n",
    "python --version"
   ]
  },
  {
   "cell_type": "code",
   "execution_count": null,
   "id": "f33001f3-5064-442d-bfb7-45859f4da20d",
   "metadata": {},
   "outputs": [],
   "source": [
    "import os\n",
    "from enum import StrEnum, auto\n",
    "from pyspark.sql import SparkSession\n",
    "import pyspark.sql.functions as f\n",
    "from pyspark.sql.types import StructType, StructField, TimestampType, IntegerType, FloatType\n",
    "from pyspark.sql.window import Window\n",
    "from delta import configure_spark_with_delta_pip"
   ]
  },
  {
   "cell_type": "code",
   "execution_count": null,
   "id": "a677d87b-0ff1-42ee-8f40-28afb0a4dea7",
   "metadata": {},
   "outputs": [],
   "source": [
    "builder = SparkSession.builder.appName(\"colibri_de_test\") \\\n",
    "    .config(\"spark.sql.extensions\", \"io.delta.sql.DeltaSparkSessionExtension\") \\\n",
    "    .config(\"spark.sql.catalog.spark_catalog\", \"org.apache.spark.sql.delta.catalog.DeltaCatalog\") \\\n",
    "    .config(\"spark.jars\", \"/home/jovyan/postgres/postgresql-42.7.1.jar\") \\\n",
    "    .master(\"local\")\n",
    "\n",
    "spark = configure_spark_with_delta_pip(builder).getOrCreate()"
   ]
  },
  {
   "cell_type": "code",
   "execution_count": null,
   "id": "3035c97d-2575-4f2e-a407-b0e2c8a9441d",
   "metadata": {},
   "outputs": [],
   "source": [
    "spark.version"
   ]
  },
  {
   "cell_type": "code",
   "execution_count": null,
   "id": "613c66f8-accc-41fc-82fa-42dcda220c80",
   "metadata": {},
   "outputs": [],
   "source": [
    "class Layer(StrEnum):\n",
    "    RAW = auto()\n",
    "    BRONZE = auto()\n",
    "    SILVER = auto()\n",
    "    GOLD = auto()"
   ]
  },
  {
   "cell_type": "code",
   "execution_count": null,
   "id": "2df036b4-344c-40a3-b10c-da5b6f6464f4",
   "metadata": {},
   "outputs": [],
   "source": [
    "class ColumnNames(StrEnum):\n",
    "    TIMESTAMP = auto()\n",
    "    TURBINE_ID = auto()\n",
    "    WIND_SPEED = auto()\n",
    "    WIND_DIRECTION = auto()\n",
    "    POWER_OUTPUT = auto()\n",
    "    DATE = auto()\n",
    "    MIN_POWER_OUTPUT = auto()\n",
    "    MAX_POWER_OUTPUT = auto()\n",
    "    AVG_POWER_OUTPUT = auto()\n",
    "    POWER_STD_DEV = auto()"
   ]
  },
  {
   "cell_type": "markdown",
   "id": "86a67455-4189-4a9d-9622-12e9fd974a82",
   "metadata": {},
   "source": [
    "### Get paths"
   ]
  },
  {
   "cell_type": "code",
   "execution_count": null,
   "id": "5f0f83aa-7c0d-4265-bd7e-9afb7ceaa660",
   "metadata": {},
   "outputs": [],
   "source": [
    "def get_dir(data_dir, layer):\n",
    "    return f'{data_dir}/{layer}'"
   ]
  },
  {
   "cell_type": "code",
   "execution_count": null,
   "id": "3d90639f-f147-4b6a-b2c6-53c4e42c6d2d",
   "metadata": {},
   "outputs": [],
   "source": [
    "DATA_DIR = \"/home/jovyan/data\"\n",
    "RAW_DIR = get_dir(DATA_DIR, Layer.RAW)\n",
    "BRONZE_DIR = get_dir(DATA_DIR, Layer.BRONZE)\n",
    "SILVER_DIR = get_dir(DATA_DIR, Layer.SILVER)\n",
    "GOLD_DIR = get_dir(DATA_DIR, Layer.GOLD)"
   ]
  },
  {
   "cell_type": "markdown",
   "id": "8f80f0bf-2ac9-4625-8f3c-6bcac639002e",
   "metadata": {},
   "source": [
    "### Get list of raw files"
   ]
  },
  {
   "cell_type": "code",
   "execution_count": null,
   "id": "9b007ff1-3bd4-4724-b05f-feb903b60b88",
   "metadata": {},
   "outputs": [],
   "source": [
    "raw_files = [f'{RAW_DIR}/{file}' for file in os.listdir(RAW_DIR)]\n",
    "raw_files"
   ]
  },
  {
   "cell_type": "markdown",
   "id": "3d863bcd-dcd5-4418-8a1e-6888f8916f06",
   "metadata": {},
   "source": [
    "### Get delta file names"
   ]
  },
  {
   "cell_type": "code",
   "execution_count": null,
   "id": "11e77274-c060-48b5-a5a3-27db2c2bd141",
   "metadata": {},
   "outputs": [],
   "source": [
    "RAW_TURBINE = 'raw_turbine'\n",
    "SUMMARY_STATS = 'summary_stats'\n",
    "CLEAN_DF = 'clean_df'"
   ]
  },
  {
   "cell_type": "markdown",
   "id": "12b76302-5c4a-4ee1-af4c-39a848e1d864",
   "metadata": {},
   "source": [
    "# Create Bronze Layer"
   ]
  },
  {
   "cell_type": "code",
   "execution_count": null,
   "id": "c7366c17-050a-4eb8-81b2-122750d8bbd2",
   "metadata": {},
   "outputs": [],
   "source": [
    "raw_data = spark.read.csv(raw_files, header=True)\n",
    "raw_data.count()"
   ]
  },
  {
   "cell_type": "code",
   "execution_count": null,
   "id": "742e939a-fb8c-4cd2-8804-15c4df39c422",
   "metadata": {},
   "outputs": [],
   "source": [
    "raw_data.printSchema()"
   ]
  },
  {
   "cell_type": "markdown",
   "id": "3faea553-e9b0-4d9b-a3af-c71f91ede435",
   "metadata": {},
   "source": [
    "Write raw data to bronze layer in Delta format"
   ]
  },
  {
   "cell_type": "code",
   "execution_count": null,
   "id": "47f43362-7d2a-422e-8b28-f30e2b381c8f",
   "metadata": {
    "scrolled": true
   },
   "outputs": [],
   "source": [
    "raw_data.write.format(\"delta\").mode(\"overwrite\").save(f'{BRONZE_DIR}/{RAW_TURBINE}')"
   ]
  },
  {
   "cell_type": "markdown",
   "id": "9c0703bd-3185-467b-afd7-d7d3371e752a",
   "metadata": {},
   "source": [
    "# Create Silver Layer"
   ]
  },
  {
   "cell_type": "code",
   "execution_count": null,
   "id": "3ba90aa4-3522-4c8b-9fed-3e705ac77d54",
   "metadata": {},
   "outputs": [],
   "source": [
    "bronze_data = spark.read.format('delta').load(f'{BRONZE_DIR}/{RAW_TURBINE}')"
   ]
  },
  {
   "cell_type": "markdown",
   "id": "01ff248a-1385-48ab-979f-b4c86c83800e",
   "metadata": {},
   "source": [
    "### Apply correct schema"
   ]
  },
  {
   "cell_type": "code",
   "execution_count": null,
   "id": "34f8d986-5acb-4bf8-a30d-2588270e7823",
   "metadata": {},
   "outputs": [],
   "source": [
    "bronze_data.dtypes"
   ]
  },
  {
   "cell_type": "code",
   "execution_count": null,
   "id": "e5812487-5bc6-4288-8c20-2ce1008aadb2",
   "metadata": {},
   "outputs": [],
   "source": [
    "def apply_schema(df, schema):\n",
    "    for column_name, type in schema.items():\n",
    "        df = df.withColumn(column_name, bronze_data[column_name].cast(type))\n",
    "\n",
    "    return df"
   ]
  },
  {
   "cell_type": "code",
   "execution_count": null,
   "id": "12215a18-f72d-4351-bb63-ec9eed2366b5",
   "metadata": {},
   "outputs": [],
   "source": [
    "schema = {\n",
    "    ColumnNames.TIMESTAMP: TimestampType(),\n",
    "    ColumnNames.TURBINE_ID: IntegerType(),\n",
    "    ColumnNames.WIND_SPEED: FloatType(),\n",
    "    ColumnNames.WIND_DIRECTION: IntegerType(),\n",
    "    ColumnNames.POWER_OUTPUT: FloatType(),\n",
    "}\n",
    "updated_schema_df = apply_schema(bronze_data, schema)\n",
    "updated_schema_df.dtypes"
   ]
  },
  {
   "cell_type": "markdown",
   "id": "1262b217-570a-461e-80c8-d2c84f9110b3",
   "metadata": {},
   "source": [
    "### Check and remove rows with missing values"
   ]
  },
  {
   "cell_type": "code",
   "execution_count": null,
   "id": "46fa9caf-b72d-4ff1-a8dc-f758223ae768",
   "metadata": {},
   "outputs": [],
   "source": [
    "missing_criteria = (f.col(ColumnNames.TIMESTAMP).isNull() |\n",
    "                    f.col(ColumnNames.TURBINE_ID).isNull() |\n",
    "                    f.col(ColumnNames.WIND_SPEED).isNull() |\n",
    "                    f.col(ColumnNames.WIND_DIRECTION).isNull() |\n",
    "                    f.col(ColumnNames.POWER_OUTPUT).isNull())\n",
    "\n",
    "missing_data = updated_schema_df.where(missing_criteria)"
   ]
  },
  {
   "cell_type": "code",
   "execution_count": null,
   "id": "36324b3a-9af3-4be4-b82b-647f35534576",
   "metadata": {},
   "outputs": [],
   "source": [
    "clean_df = updated_schema_df.subtract(missing_data)"
   ]
  },
  {
   "cell_type": "markdown",
   "id": "5e2c911d-4ac2-47ad-8838-446853a3bd6c",
   "metadata": {},
   "source": [
    "*Could also log \"missing_data\" dataframe into DB...*"
   ]
  },
  {
   "cell_type": "markdown",
   "id": "ab642a50-a2b4-48d0-b47a-c09450873778",
   "metadata": {},
   "source": [
    "### Calculate summary statistics\n",
    "\n",
    "For each turbine, calculate the minimum, maximum, and average power output over a given time period (e.g., 24 hours).\n",
    "\n",
    "Also calculating standard deviation based `avg_power_output` partitioned by `turbine_id` and `date`"
   ]
  },
  {
   "cell_type": "code",
   "execution_count": null,
   "id": "f9c293c3-2cc6-42b2-9b03-05765c99bc48",
   "metadata": {},
   "outputs": [],
   "source": [
    "date_column = f.to_date(f.col(ColumnNames.TIMESTAMP))\n",
    "std_dev_window_spec = Window.partitionBy(ColumnNames.TURBINE_ID)\n",
    "\n",
    "summary_stats_df = (clean_df\n",
    "                    .withColumn(ColumnNames.DATE, date_column)\n",
    "                    .withColumn(ColumnNames.POWER_STD_DEV, f.stddev(ColumnNames.POWER_OUTPUT).over(std_dev_window_spec))\n",
    "                    .groupBy(ColumnNames.DATE, ColumnNames.TURBINE_ID, ColumnNames.POWER_STD_DEV) \n",
    "                    .agg(\n",
    "                        f.min(ColumnNames.POWER_OUTPUT).alias(ColumnNames.MIN_POWER_OUTPUT),\n",
    "                        f.max(ColumnNames.POWER_OUTPUT).alias(ColumnNames.MAX_POWER_OUTPUT),\n",
    "                        f.avg(ColumnNames.POWER_OUTPUT).alias(ColumnNames.AVG_POWER_OUTPUT),\n",
    "                    )\n",
    ")\n",
    "summary_stats_df.show()"
   ]
  },
  {
   "cell_type": "markdown",
   "id": "75eb1bba-0c4c-4830-a44c-fe4e194a7ca7",
   "metadata": {},
   "source": [
    "# Identify Anomalies\n",
    "\n",
    "Any turbines that have significantly deviated from their expected power output over the same time period. \n",
    "\n",
    "Anomalies can be defined as turbines whose output is outside of 2 standard deviations from the mean.\n",
    "\n",
    "(All turbines seem to have been affected...)"
   ]
  },
  {
   "cell_type": "code",
   "execution_count": null,
   "id": "4f4da74b-98f6-47d4-abc0-c5def25fe213",
   "metadata": {},
   "outputs": [],
   "source": [
    "two_stddev = (f.col(ColumnNames.POWER_STD_DEV) * 2)\n",
    "two_stddev_above_mean  = (f.lit(f.col('avg_power_output') + two_stddev))\n",
    "two_stddev_below_mean  = (f.lit(f.col('avg_power_output') - two_stddev))\n",
    "\n",
    "anomaly_logic = (\n",
    "    (two_stddev_above_mean > f.col('max_power_output')) |\n",
    "    (two_stddev_below_mean < f.col('min_power_output'))\n",
    ")\n",
    "    \n",
    "df = (summary_stats_df.filter(anomaly_logic).select('turbine_id').distinct().orderBy('turbine_id').show())"
   ]
  },
  {
   "cell_type": "markdown",
   "id": "aca3fa1a-eb00-436f-9b4f-d5a4fda85e48",
   "metadata": {},
   "source": [
    "### Store intermediate tables in Silver layer "
   ]
  },
  {
   "cell_type": "code",
   "execution_count": null,
   "id": "9a2af049-6818-4f8f-8b3d-bd75dd89289c",
   "metadata": {},
   "outputs": [],
   "source": [
    "summary_stats_df.write.format(\"delta\").mode(\"overwrite\").save(f'{SILVER_DIR}/{SUMMARY_STATS}')\n",
    "clean_df.write.format(\"delta\").mode(\"overwrite\").save(f'{SILVER_DIR}/{CLEAN_DF}')"
   ]
  },
  {
   "cell_type": "markdown",
   "id": "0bad0826-c6fa-4eaf-a81a-fcf68103b556",
   "metadata": {},
   "source": [
    "# Gold Layer"
   ]
  },
  {
   "cell_type": "markdown",
   "id": "196e5967-c1bc-4d2b-a332-1eae1afcae6b",
   "metadata": {},
   "source": [
    "Store the cleaned data and summary statistics in a database for further analysis."
   ]
  },
  {
   "cell_type": "code",
   "execution_count": null,
   "id": "de0dd9f5-9a25-4718-8c25-95b8ae5ea294",
   "metadata": {},
   "outputs": [],
   "source": [
    "def write_to_postgres(df, table_name):\n",
    "    jdbc_url = \"jdbc:postgresql://db:5432/postgres\"\n",
    "    df.write \\\n",
    "        .format(\"jdbc\") \\\n",
    "        .option(\"url\", jdbc_url) \\\n",
    "        .option(\"driver\", \"org.postgresql.Driver\") \\\n",
    "        .option(\"dbtable\", table_name) \\\n",
    "        .option(\"user\", \"postgres\") \\\n",
    "        .option(\"password\", \"postgres\") \\\n",
    "        .mode(\"append\") \\\n",
    "        .save()"
   ]
  },
  {
   "cell_type": "code",
   "execution_count": null,
   "id": "3b941e3c-1086-48e4-b9ac-4000cf8172da",
   "metadata": {},
   "outputs": [],
   "source": [
    "write_to_postgres(summary_stats_df, table_name='summary')"
   ]
  },
  {
   "cell_type": "code",
   "execution_count": null,
   "id": "f2baf002-5bc4-4649-bd6c-0ecaa5e3311b",
   "metadata": {},
   "outputs": [],
   "source": [
    "write_to_postgres(clean_df, table_name='cleaned')"
   ]
  },
  {
   "cell_type": "code",
   "execution_count": null,
   "id": "832f4a2b-44f9-4034-91c0-f841daf2b1c2",
   "metadata": {},
   "outputs": [],
   "source": [
    "%%sh\n",
    "jupyter nbconvert --to script turbines.ipynb"
   ]
  },
  {
   "cell_type": "code",
   "execution_count": null,
   "id": "fee0e927-1037-4d04-b4d8-18b057e22195",
   "metadata": {},
   "outputs": [],
   "source": []
  }
 ],
 "metadata": {
  "kernelspec": {
   "display_name": "Python 3 (ipykernel)",
   "language": "python",
   "name": "python3"
  },
  "language_info": {
   "codemirror_mode": {
    "name": "ipython",
    "version": 3
   },
   "file_extension": ".py",
   "mimetype": "text/x-python",
   "name": "python",
   "nbconvert_exporter": "python",
   "pygments_lexer": "ipython3",
   "version": "3.11.6"
  }
 },
 "nbformat": 4,
 "nbformat_minor": 5
}
