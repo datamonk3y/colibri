{
 "cells": [
  {
   "cell_type": "markdown",
   "id": "71d1903d-a075-44ed-ba23-d64f12062af0",
   "metadata": {},
   "source": [
    "# Setup"
   ]
  },
  {
   "cell_type": "code",
   "execution_count": 1,
   "id": "65b4ba51-ceaa-47c9-ac77-8d4e14bc4f94",
   "metadata": {},
   "outputs": [
    {
     "name": "stdout",
     "output_type": "stream",
     "text": [
      "Python 3.11.6\n"
     ]
    }
   ],
   "source": [
    "%%sh\n",
    "python --version"
   ]
  },
  {
   "cell_type": "code",
   "execution_count": 2,
   "id": "f33001f3-5064-442d-bfb7-45859f4da20d",
   "metadata": {},
   "outputs": [],
   "source": [
    "import os\n",
    "from enum import StrEnum, auto\n",
    "from pyspark.sql import SparkSession\n",
    "from delta import configure_spark_with_delta_pip"
   ]
  },
  {
   "cell_type": "code",
   "execution_count": 3,
   "id": "a677d87b-0ff1-42ee-8f40-28afb0a4dea7",
   "metadata": {},
   "outputs": [],
   "source": [
    "builder = SparkSession.builder.appName(\"colibri_de_test\") \\\n",
    "    .config(\"spark.sql.extensions\", \"io.delta.sql.DeltaSparkSessionExtension\") \\\n",
    "    .config(\"spark.sql.catalog.spark_catalog\", \"org.apache.spark.sql.delta.catalog.DeltaCatalog\")\n",
    "\n",
    "spark = configure_spark_with_delta_pip(builder).getOrCreate()"
   ]
  },
  {
   "cell_type": "code",
   "execution_count": 4,
   "id": "3035c97d-2575-4f2e-a407-b0e2c8a9441d",
   "metadata": {},
   "outputs": [
    {
     "data": {
      "text/plain": [
       "'3.5.0'"
      ]
     },
     "execution_count": 4,
     "metadata": {},
     "output_type": "execute_result"
    }
   ],
   "source": [
    "spark.version"
   ]
  },
  {
   "cell_type": "code",
   "execution_count": 5,
   "id": "613c66f8-accc-41fc-82fa-42dcda220c80",
   "metadata": {},
   "outputs": [],
   "source": [
    "class Layer(StrEnum):\n",
    "    RAW = auto()\n",
    "    BRONZE = auto()\n",
    "    SILVER = auto()\n",
    "    GOLD = auto()"
   ]
  },
  {
   "cell_type": "markdown",
   "id": "86a67455-4189-4a9d-9622-12e9fd974a82",
   "metadata": {},
   "source": [
    "### Get paths"
   ]
  },
  {
   "cell_type": "code",
   "execution_count": 6,
   "id": "5f0f83aa-7c0d-4265-bd7e-9afb7ceaa660",
   "metadata": {},
   "outputs": [],
   "source": [
    "def get_dir(data_dir, layer):\n",
    "    return f'{data_dir}/{layer}'"
   ]
  },
  {
   "cell_type": "code",
   "execution_count": 7,
   "id": "3d90639f-f147-4b6a-b2c6-53c4e42c6d2d",
   "metadata": {},
   "outputs": [],
   "source": [
    "DATA_DIR = '/home/jovyan/data'\n",
    "RAW_DIR = get_dir(DATA_DIR, Layer.RAW)\n",
    "BRONZE_DIR = get_dir(DATA_DIR, Layer.BRONZE)\n",
    "SILVER_DIR = get_dir(DATA_DIR, Layer.SILVER)\n",
    "GOLD_DIR = get_dir(DATA_DIR, Layer.GOLD)"
   ]
  },
  {
   "cell_type": "code",
   "execution_count": 8,
   "id": "9b007ff1-3bd4-4724-b05f-feb903b60b88",
   "metadata": {},
   "outputs": [
    {
     "data": {
      "text/plain": [
       "['/home/jovyan/data/raw/data_group_1.csv',\n",
       " '/home/jovyan/data/raw/data_group_2.csv',\n",
       " '/home/jovyan/data/raw/data_group_3.csv']"
      ]
     },
     "execution_count": 8,
     "metadata": {},
     "output_type": "execute_result"
    }
   ],
   "source": [
    "raw_files = [f'{RAW_DIR}/{file}' for file in os.listdir(RAW_DIR)]\n",
    "raw_files"
   ]
  },
  {
   "cell_type": "code",
   "execution_count": 9,
   "id": "11e77274-c060-48b5-a5a3-27db2c2bd141",
   "metadata": {},
   "outputs": [],
   "source": [
    "TABLE_NAME = 'turbine'"
   ]
  },
  {
   "cell_type": "markdown",
   "id": "12b76302-5c4a-4ee1-af4c-39a848e1d864",
   "metadata": {},
   "source": [
    "# Bronze"
   ]
  },
  {
   "cell_type": "code",
   "execution_count": 10,
   "id": "c7366c17-050a-4eb8-81b2-122750d8bbd2",
   "metadata": {},
   "outputs": [
    {
     "data": {
      "text/plain": [
       "11160"
      ]
     },
     "execution_count": 10,
     "metadata": {},
     "output_type": "execute_result"
    }
   ],
   "source": [
    "raw_data = spark.read.csv(raw_files, header=True)\n",
    "raw_data.count()"
   ]
  },
  {
   "cell_type": "code",
   "execution_count": 11,
   "id": "742e939a-fb8c-4cd2-8804-15c4df39c422",
   "metadata": {},
   "outputs": [
    {
     "name": "stdout",
     "output_type": "stream",
     "text": [
      "root\n",
      " |-- timestamp: string (nullable = true)\n",
      " |-- turbine_id: string (nullable = true)\n",
      " |-- wind_speed: string (nullable = true)\n",
      " |-- wind_direction: string (nullable = true)\n",
      " |-- power_output: string (nullable = true)\n",
      "\n"
     ]
    }
   ],
   "source": [
    "raw_data.printSchema()"
   ]
  },
  {
   "cell_type": "code",
   "execution_count": 25,
   "id": "47f43362-7d2a-422e-8b28-f30e2b381c8f",
   "metadata": {
    "scrolled": true
   },
   "outputs": [],
   "source": [
    "# Write the data to bronze layer\n",
    "raw_data.write.format(\"delta\").mode(\"overwrite\").save(f'{BRONZE_DIR}/{TABLE_NAME}')"
   ]
  },
  {
   "cell_type": "markdown",
   "id": "9c0703bd-3185-467b-afd7-d7d3371e752a",
   "metadata": {},
   "source": [
    "# Silver"
   ]
  }
 ],
 "metadata": {
  "kernelspec": {
   "display_name": "Python 3 (ipykernel)",
   "language": "python",
   "name": "python3"
  },
  "language_info": {
   "codemirror_mode": {
    "name": "ipython",
    "version": 3
   },
   "file_extension": ".py",
   "mimetype": "text/x-python",
   "name": "python",
   "nbconvert_exporter": "python",
   "pygments_lexer": "ipython3",
   "version": "3.11.6"
  }
 },
 "nbformat": 4,
 "nbformat_minor": 5
}
